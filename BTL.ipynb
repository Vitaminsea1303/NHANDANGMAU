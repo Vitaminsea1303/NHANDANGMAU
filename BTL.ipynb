{
 "cells": [
  {
   "cell_type": "markdown",
   "metadata": {},
   "source": [
    "# Khai báo thư viện"
   ]
  },
  {
   "cell_type": "code",
   "execution_count": 21,
   "metadata": {},
   "outputs": [],
   "source": [
    "from sklearn.metrics import precision_score, recall_score, f1_score\n",
    "from sklearn.model_selection import train_test_split\n",
    "from sklearn.decomposition import PCA\n",
    "from sklearn.svm import SVC\n",
    "from sklearn import tree\n",
    "import pandas as pd\n",
    "import numpy as np\n",
    "import seaborn as sns\n",
    "from tkinter import messagebox\n",
    "from tkinter.ttk import *\n",
    "from tkinter import *"
   ]
  },
  {
   "cell_type": "markdown",
   "metadata": {},
   "source": [
    "# 1. Xử lý dữ liệu"
   ]
  },
  {
   "cell_type": "code",
   "execution_count": 22,
   "metadata": {},
   "outputs": [
    {
     "data": {
      "text/html": [
       "<div>\n",
       "<style scoped>\n",
       "    .dataframe tbody tr th:only-of-type {\n",
       "        vertical-align: middle;\n",
       "    }\n",
       "\n",
       "    .dataframe tbody tr th {\n",
       "        vertical-align: top;\n",
       "    }\n",
       "\n",
       "    .dataframe thead th {\n",
       "        text-align: right;\n",
       "    }\n",
       "</style>\n",
       "<table border=\"1\" class=\"dataframe\">\n",
       "  <thead>\n",
       "    <tr style=\"text-align: right;\">\n",
       "      <th></th>\n",
       "      <th>work environment</th>\n",
       "      <th>experience</th>\n",
       "      <th>passion</th>\n",
       "      <th>at speedvancemend</th>\n",
       "      <th>salary</th>\n",
       "      <th>quit job</th>\n",
       "    </tr>\n",
       "  </thead>\n",
       "  <tbody>\n",
       "    <tr>\n",
       "      <th>0</th>\n",
       "      <td>ordinary</td>\n",
       "      <td>med</td>\n",
       "      <td>small</td>\n",
       "      <td>normal</td>\n",
       "      <td>med</td>\n",
       "      <td>yes</td>\n",
       "    </tr>\n",
       "    <tr>\n",
       "      <th>1</th>\n",
       "      <td>ordinary</td>\n",
       "      <td>high</td>\n",
       "      <td>big</td>\n",
       "      <td>slow</td>\n",
       "      <td>low</td>\n",
       "      <td>yes</td>\n",
       "    </tr>\n",
       "    <tr>\n",
       "      <th>2</th>\n",
       "      <td>bad</td>\n",
       "      <td>high</td>\n",
       "      <td>vbig</td>\n",
       "      <td>fast</td>\n",
       "      <td>low</td>\n",
       "      <td>yes</td>\n",
       "    </tr>\n",
       "    <tr>\n",
       "      <th>3</th>\n",
       "      <td>ordinary</td>\n",
       "      <td>high</td>\n",
       "      <td>big</td>\n",
       "      <td>fast</td>\n",
       "      <td>med</td>\n",
       "      <td>no</td>\n",
       "    </tr>\n",
       "    <tr>\n",
       "      <th>4</th>\n",
       "      <td>ordinary</td>\n",
       "      <td>med</td>\n",
       "      <td>small</td>\n",
       "      <td>normal</td>\n",
       "      <td>high</td>\n",
       "      <td>yes</td>\n",
       "    </tr>\n",
       "    <tr>\n",
       "      <th>...</th>\n",
       "      <td>...</td>\n",
       "      <td>...</td>\n",
       "      <td>...</td>\n",
       "      <td>...</td>\n",
       "      <td>...</td>\n",
       "      <td>...</td>\n",
       "    </tr>\n",
       "    <tr>\n",
       "      <th>238</th>\n",
       "      <td>bad</td>\n",
       "      <td>med</td>\n",
       "      <td>big</td>\n",
       "      <td>normal</td>\n",
       "      <td>med</td>\n",
       "      <td>yes</td>\n",
       "    </tr>\n",
       "    <tr>\n",
       "      <th>239</th>\n",
       "      <td>ordinary</td>\n",
       "      <td>low</td>\n",
       "      <td>vbig</td>\n",
       "      <td>slow</td>\n",
       "      <td>high</td>\n",
       "      <td>no</td>\n",
       "    </tr>\n",
       "    <tr>\n",
       "      <th>240</th>\n",
       "      <td>ordinary</td>\n",
       "      <td>med</td>\n",
       "      <td>small</td>\n",
       "      <td>fast</td>\n",
       "      <td>high</td>\n",
       "      <td>yes</td>\n",
       "    </tr>\n",
       "    <tr>\n",
       "      <th>241</th>\n",
       "      <td>good</td>\n",
       "      <td>high</td>\n",
       "      <td>small</td>\n",
       "      <td>slow</td>\n",
       "      <td>high</td>\n",
       "      <td>yes</td>\n",
       "    </tr>\n",
       "    <tr>\n",
       "      <th>242</th>\n",
       "      <td>bad</td>\n",
       "      <td>med</td>\n",
       "      <td>vbig</td>\n",
       "      <td>normal</td>\n",
       "      <td>med</td>\n",
       "      <td>yes</td>\n",
       "    </tr>\n",
       "  </tbody>\n",
       "</table>\n",
       "<p>243 rows × 6 columns</p>\n",
       "</div>"
      ],
      "text/plain": [
       "    work environment experience passion at speedvancemend salary quit job\n",
       "0           ordinary        med   small            normal    med      yes\n",
       "1           ordinary       high     big              slow    low      yes\n",
       "2                bad       high    vbig              fast    low      yes\n",
       "3           ordinary       high     big              fast    med       no\n",
       "4           ordinary        med   small            normal   high      yes\n",
       "..               ...        ...     ...               ...    ...      ...\n",
       "238              bad        med     big            normal    med      yes\n",
       "239         ordinary        low    vbig              slow   high       no\n",
       "240         ordinary        med   small              fast   high      yes\n",
       "241             good       high   small              slow   high      yes\n",
       "242              bad        med    vbig            normal    med      yes\n",
       "\n",
       "[243 rows x 6 columns]"
      ]
     },
     "execution_count": 22,
     "metadata": {},
     "output_type": "execute_result"
    }
   ],
   "source": [
    "data = pd.read_csv(\"./work.csv\")\n",
    "data"
   ]
  },
  {
   "cell_type": "code",
   "execution_count": 23,
   "metadata": {},
   "outputs": [
    {
     "data": {
      "text/plain": [
       "work environment     0\n",
       "experience           0\n",
       "passion              0\n",
       "at speedvancemend    0\n",
       "salary               0\n",
       "quit job             0\n",
       "dtype: int64"
      ]
     },
     "execution_count": 23,
     "metadata": {},
     "output_type": "execute_result"
    }
   ],
   "source": [
    "data.isnull().sum()"
   ]
  },
  {
   "cell_type": "markdown",
   "metadata": {},
   "source": [
    "## 1. . Categorical data Encoding"
   ]
  },
  {
   "cell_type": "code",
   "execution_count": 24,
   "metadata": {},
   "outputs": [],
   "source": [
    "from sklearn.preprocessing import LabelEncoder\n",
    "\n",
    "label_encoders = {}\n",
    "for col in ['work environment', 'experience', 'passion', 'at speedvancemend', 'salary']:\n",
    "    le = LabelEncoder()\n",
    "    data[col] = le.fit_transform(data[col])\n",
    "    label_encoders[col] = le  # Lưu lại từng encoder để sử dụng khi dự đoán\n"
   ]
  },
  {
   "cell_type": "code",
   "execution_count": 25,
   "metadata": {},
   "outputs": [
    {
     "data": {
      "text/html": [
       "<div>\n",
       "<style scoped>\n",
       "    .dataframe tbody tr th:only-of-type {\n",
       "        vertical-align: middle;\n",
       "    }\n",
       "\n",
       "    .dataframe tbody tr th {\n",
       "        vertical-align: top;\n",
       "    }\n",
       "\n",
       "    .dataframe thead th {\n",
       "        text-align: right;\n",
       "    }\n",
       "</style>\n",
       "<table border=\"1\" class=\"dataframe\">\n",
       "  <thead>\n",
       "    <tr style=\"text-align: right;\">\n",
       "      <th></th>\n",
       "      <th>work environment</th>\n",
       "      <th>experience</th>\n",
       "      <th>passion</th>\n",
       "      <th>at speedvancemend</th>\n",
       "      <th>salary</th>\n",
       "      <th>quit job</th>\n",
       "    </tr>\n",
       "  </thead>\n",
       "  <tbody>\n",
       "    <tr>\n",
       "      <th>0</th>\n",
       "      <td>2</td>\n",
       "      <td>2</td>\n",
       "      <td>1</td>\n",
       "      <td>1</td>\n",
       "      <td>2</td>\n",
       "      <td>yes</td>\n",
       "    </tr>\n",
       "    <tr>\n",
       "      <th>1</th>\n",
       "      <td>2</td>\n",
       "      <td>0</td>\n",
       "      <td>0</td>\n",
       "      <td>2</td>\n",
       "      <td>1</td>\n",
       "      <td>yes</td>\n",
       "    </tr>\n",
       "    <tr>\n",
       "      <th>2</th>\n",
       "      <td>0</td>\n",
       "      <td>0</td>\n",
       "      <td>2</td>\n",
       "      <td>0</td>\n",
       "      <td>1</td>\n",
       "      <td>yes</td>\n",
       "    </tr>\n",
       "    <tr>\n",
       "      <th>3</th>\n",
       "      <td>2</td>\n",
       "      <td>0</td>\n",
       "      <td>0</td>\n",
       "      <td>0</td>\n",
       "      <td>2</td>\n",
       "      <td>no</td>\n",
       "    </tr>\n",
       "    <tr>\n",
       "      <th>4</th>\n",
       "      <td>2</td>\n",
       "      <td>2</td>\n",
       "      <td>1</td>\n",
       "      <td>1</td>\n",
       "      <td>0</td>\n",
       "      <td>yes</td>\n",
       "    </tr>\n",
       "  </tbody>\n",
       "</table>\n",
       "</div>"
      ],
      "text/plain": [
       "   work environment  experience  passion  at speedvancemend  salary quit job\n",
       "0                 2           2        1                  1       2      yes\n",
       "1                 2           0        0                  2       1      yes\n",
       "2                 0           0        2                  0       1      yes\n",
       "3                 2           0        0                  0       2       no\n",
       "4                 2           2        1                  1       0      yes"
      ]
     },
     "execution_count": 25,
     "metadata": {},
     "output_type": "execute_result"
    }
   ],
   "source": [
    "data.head()"
   ]
  },
  {
   "cell_type": "code",
   "execution_count": 26,
   "metadata": {},
   "outputs": [
    {
     "name": "stdout",
     "output_type": "stream",
     "text": [
      "quit job\n",
      "yes    133\n",
      "no     110\n",
      "Name: count, dtype: int64\n"
     ]
    },
    {
     "data": {
      "text/plain": [
       "<Axes: xlabel='quit job', ylabel='count'>"
      ]
     },
     "execution_count": 26,
     "metadata": {},
     "output_type": "execute_result"
    },
    {
     "data": {
      "image/png": "[encoded data removed]",
      "text/plain": [
       "<Figure size 640x480 with 1 Axes>"
      ]
     },
     "metadata": {},
     "output_type": "display_data"
    }
   ],
   "source": [
    "count=data['quit job'].value_counts()\n",
    "print(count)\n",
    "sns.countplot(x='quit job', data=data)"
   ]
  },
  {
   "cell_type": "code",
   "execution_count": 27,
   "metadata": {},
   "outputs": [
    {
     "name": "stdout",
     "output_type": "stream",
     "text": [
      "quit job\n",
      "yes    133\n",
      "no     133\n",
      "Name: count, dtype: int64\n"
     ]
    },
    {
     "data": {
      "text/plain": [
       "<Axes: xlabel='quit job', ylabel='count'>"
      ]
     },
     "execution_count": 27,
     "metadata": {},
     "output_type": "execute_result"
    },
    {
     "data": {
      "image/png": "[encoded data removed]",
      "text/plain": [
       "<Figure size 640x480 with 1 Axes>"
      ]
     },
     "metadata": {},
     "output_type": "display_data"
    }
   ],
   "source": [
    "from imblearn.over_sampling import SMOTE\n",
    "\n",
    "X = data.drop('quit job', axis=1)\n",
    "y = data['quit job']\n",
    "\n",
    "smote = SMOTE(random_state=42)\n",
    "X_os, y_os = smote.fit_resample(X, y)\n",
    "\n",
    "data_update = pd.concat([pd.DataFrame(X_os, columns=X.columns), pd.Series(y_os, name='quit job')], axis=1)\n",
    "\n",
    "count=data_update['quit job'].value_counts()\n",
    "print(count)\n",
    "sns.countplot(x='quit job', data=data_update)"
   ]
  },
  {
   "cell_type": "code",
   "execution_count": 28,
   "metadata": {},
   "outputs": [
    {
     "data": {
      "text/html": [
       "<div>\n",
       "<style scoped>\n",
       "    .dataframe tbody tr th:only-of-type {\n",
       "        vertical-align: middle;\n",
       "    }\n",
       "\n",
       "    .dataframe tbody tr th {\n",
       "        vertical-align: top;\n",
       "    }\n",
       "\n",
       "    .dataframe thead th {\n",
       "        text-align: right;\n",
       "    }\n",
       "</style>\n",
       "<table border=\"1\" class=\"dataframe\">\n",
       "  <thead>\n",
       "    <tr style=\"text-align: right;\">\n",
       "      <th></th>\n",
       "      <th>work environment</th>\n",
       "      <th>experience</th>\n",
       "      <th>passion</th>\n",
       "      <th>at speedvancemend</th>\n",
       "      <th>salary</th>\n",
       "    </tr>\n",
       "  </thead>\n",
       "  <tbody>\n",
       "    <tr>\n",
       "      <th>0</th>\n",
       "      <td>2</td>\n",
       "      <td>2</td>\n",
       "      <td>1</td>\n",
       "      <td>1</td>\n",
       "      <td>2</td>\n",
       "    </tr>\n",
       "    <tr>\n",
       "      <th>1</th>\n",
       "      <td>2</td>\n",
       "      <td>0</td>\n",
       "      <td>0</td>\n",
       "      <td>2</td>\n",
       "      <td>1</td>\n",
       "    </tr>\n",
       "    <tr>\n",
       "      <th>2</th>\n",
       "      <td>0</td>\n",
       "      <td>0</td>\n",
       "      <td>2</td>\n",
       "      <td>0</td>\n",
       "      <td>1</td>\n",
       "    </tr>\n",
       "    <tr>\n",
       "      <th>3</th>\n",
       "      <td>2</td>\n",
       "      <td>0</td>\n",
       "      <td>0</td>\n",
       "      <td>0</td>\n",
       "      <td>2</td>\n",
       "    </tr>\n",
       "    <tr>\n",
       "      <th>4</th>\n",
       "      <td>2</td>\n",
       "      <td>2</td>\n",
       "      <td>1</td>\n",
       "      <td>1</td>\n",
       "      <td>0</td>\n",
       "    </tr>\n",
       "    <tr>\n",
       "      <th>...</th>\n",
       "      <td>...</td>\n",
       "      <td>...</td>\n",
       "      <td>...</td>\n",
       "      <td>...</td>\n",
       "      <td>...</td>\n",
       "    </tr>\n",
       "    <tr>\n",
       "      <th>261</th>\n",
       "      <td>0</td>\n",
       "      <td>1</td>\n",
       "      <td>0</td>\n",
       "      <td>0</td>\n",
       "      <td>0</td>\n",
       "    </tr>\n",
       "    <tr>\n",
       "      <th>262</th>\n",
       "      <td>1</td>\n",
       "      <td>0</td>\n",
       "      <td>2</td>\n",
       "      <td>0</td>\n",
       "      <td>0</td>\n",
       "    </tr>\n",
       "    <tr>\n",
       "      <th>263</th>\n",
       "      <td>1</td>\n",
       "      <td>1</td>\n",
       "      <td>0</td>\n",
       "      <td>0</td>\n",
       "      <td>2</td>\n",
       "    </tr>\n",
       "    <tr>\n",
       "      <th>264</th>\n",
       "      <td>0</td>\n",
       "      <td>1</td>\n",
       "      <td>0</td>\n",
       "      <td>2</td>\n",
       "      <td>0</td>\n",
       "    </tr>\n",
       "    <tr>\n",
       "      <th>265</th>\n",
       "      <td>0</td>\n",
       "      <td>1</td>\n",
       "      <td>2</td>\n",
       "      <td>2</td>\n",
       "      <td>0</td>\n",
       "    </tr>\n",
       "  </tbody>\n",
       "</table>\n",
       "<p>266 rows × 5 columns</p>\n",
       "</div>"
      ],
      "text/plain": [
       "     work environment  experience  passion  at speedvancemend  salary\n",
       "0                   2           2        1                  1       2\n",
       "1                   2           0        0                  2       1\n",
       "2                   0           0        2                  0       1\n",
       "3                   2           0        0                  0       2\n",
       "4                   2           2        1                  1       0\n",
       "..                ...         ...      ...                ...     ...\n",
       "261                 0           1        0                  0       0\n",
       "262                 1           0        2                  0       0\n",
       "263                 1           1        0                  0       2\n",
       "264                 0           1        0                  2       0\n",
       "265                 0           1        2                  2       0\n",
       "\n",
       "[266 rows x 5 columns]"
      ]
     },
     "execution_count": 28,
     "metadata": {},
     "output_type": "execute_result"
    }
   ],
   "source": [
    "X_os"
   ]
  },
  {
   "cell_type": "markdown",
   "metadata": {},
   "source": [
    "# 2. Xây dựng mô hình"
   ]
  },
  {
   "cell_type": "markdown",
   "metadata": {},
   "source": [
    "### Hàm đánh giá tỉ lệ dự đoán đúng"
   ]
  },
  {
   "cell_type": "code",
   "execution_count": 34,
   "metadata": {},
   "outputs": [],
   "source": [
    "# Hàm tính toán tỷ lệ dự đoán chính xác\n",
    "def RateRating(Y_Pred, Y_test):\n",
    "    countPredictTrue = np.sum(Y_Pred == Y_test)  # Đếm số lần dự đoán đúng\n",
    "    rate = countPredictTrue / len(Y_Pred)\n",
    "    return rate"
   ]
  },
  {
   "cell_type": "markdown",
   "metadata": {},
   "source": [
    "### Hàm show tỉ lệ của thuật toán CART"
   ]
  },
  {
   "cell_type": "code",
   "execution_count": 30,
   "metadata": {},
   "outputs": [],
   "source": [
    "#Hàm show tỉ lệ dự đoán của thuật toán CART trên 3 độ đo: Precision, Recall, F1\n",
    "def AboutRateCART():\n",
    "\tmessagebox.showinfo(\"Tỉ lệ dự đoán đúng của CART\",f\"Accuracy score: {maxRateCART*100}%\"+'\\n'\n",
    "\t\t\t\t\t\t\t\t\t\t\t\t\t+f\"Precision score: {precision_score(Y_test, bestPredCART, average='micro')*100}%\"+'\\n'\n",
    "\t\t\t\t\t\t\t\t\t\t\t\t\t+f\"Recall score: {recall_score(Y_test, bestPredCART, average='micro')*100}%\"+'\\n'\n",
    "\t\t\t\t\t\t\t\t\t\t\t\t\t+f\"F1 score: {f1_score(Y_test, bestPredCART, average='micro')*100}%\")\n",
    "\n"
   ]
  },
  {
   "cell_type": "markdown",
   "metadata": {},
   "source": [
    "### Hàm show tỉ lệ thuật toán Navie Bayes"
   ]
  },
  {
   "cell_type": "code",
   "execution_count": 42,
   "metadata": {},
   "outputs": [],
   "source": [
    "def AboutRateNB():\n",
    "\tmessagebox.showinfo(\"Tỉ lệ dự đoán đúng của CART\",f\"Accuracy score: {maxRateNB*100}%\"+'\\n'\n",
    "\t\t\t\t\t\t\t\t\t\t\t\t\t+f\"Precision score: {precision_score(Y_test, bestPredNB, average='micro')*100}%\"+'\\n'\n",
    "\t\t\t\t\t\t\t\t\t\t\t\t\t+f\"Recall score: {recall_score(Y_test, bestPredNB, average='micro')*100}%\"+'\\n'\n",
    "\t\t\t\t\t\t\t\t\t\t\t\t\t+f\"F1 score: {f1_score(Y_test, bestPredNB, average='micro')*100}%\")\n",
    "\n"
   ]
  },
  {
   "cell_type": "markdown",
   "metadata": {},
   "source": [
    "## 2.1. Hàm dự đoán sử dụng CART_PCA"
   ]
  },
  {
   "cell_type": "code",
   "execution_count": 32,
   "metadata": {},
   "outputs": [],
   "source": [
    "def PredictWithCART():\n",
    "    try:\n",
    "        # Lấy dữ liệu từ các combobox\n",
    "        newData = [[cbbWorkEnvironment.get(), cbbExperience.get(), cbbPassion.get(), cbbAdvancementSpeed.get(), cbbSalary.get()]]\n",
    "        \n",
    "        # Mã hóa từng giá trị đầu vào bằng các LabelEncoder đã lưu\n",
    "        encoded_inputs = [\n",
    "            label_encoders[col].transform([newData[0][i]])[0]\n",
    "            for i, col in enumerate(['work environment', 'experience', 'passion', 'at speedvancemend', 'salary'])\n",
    "        ]\n",
    "        # Chuyển đổi dữ liệu đã mã hóa bằng PCA\n",
    "        newData_Decreased = bestPcaCART.transform([encoded_inputs])\n",
    "        Result = modelMaxCART.predict(newData_Decreased)\n",
    "        lbPredictCART.configure(text=f\"{Result[0]}\") # Hiển thị kết quả trên giao diện\n",
    "    except Exception as e:\n",
    "        messagebox.showinfo(\"Cảnh báo\", \"Vui lòng chọn đầy đủ thông tin để dự đoán\")\n",
    "        print(f\"Lỗi: {e}\")\n"
   ]
  },
  {
   "cell_type": "code",
   "execution_count": 35,
   "metadata": {},
   "outputs": [],
   "source": [
    "# Bắt đầu thuật toán PCA\n",
    "maxRateCART = 0\n",
    "for i in range(1, X_os.shape[1] + 1):\n",
    "\n",
    "    # Khai báo PCA và số thành phần cần giữ lại\n",
    "    pca = PCA(n_components=i)\n",
    "\n",
    "    # Tìm một hệ cơ sở trực chuẩn và loại bỏ những thuộc tính ít quan trọng nhất\n",
    "    X_Decreased = pca.fit_transform(X_os)\n",
    "\n",
    "    # Sau khi dữ liệu đã được giảm kích thước thì tiến hành chia dữ liệu thành các phần Train, Test\n",
    "    X_train, X_test, Y_train, Y_test = train_test_split(X_Decreased, y_os, test_size=0.3, shuffle=False)\n",
    "\n",
    "    # Khai báo phương thức tạo cây với tiêu chí gini (CART), đồng thời tiến hành dựng cây phân lớp\n",
    "    TreeCART = tree.DecisionTreeClassifier(criterion='gini').fit(X_train, Y_train)\n",
    "    # Tiến hành dự đoán trên tập test\n",
    "    Y_Pred_CART = TreeCART.predict(X_test)\n",
    "    \n",
    "    # Điều kiện so sánh để lưu lại các thông tin của PCA và mô hình tốt nhất khi được kết hợp với PCA\n",
    "    if RateRating(Y_Pred_CART, Y_test) > maxRateCART:\n",
    "        maxRateCART = RateRating(Y_Pred_CART, Y_test)\n",
    "        numComponentsCART = i\n",
    "        bestPcaCART = pca\n",
    "        modelMaxCART = TreeCART\n",
    "        bestPredCART = Y_Pred_CART"
   ]
  },
  {
   "cell_type": "markdown",
   "metadata": {},
   "source": [
    "## 2.2. Sử dụng Navie Bayes"
   ]
  },
  {
   "cell_type": "code",
   "execution_count": 37,
   "metadata": {},
   "outputs": [],
   "source": [
    "def PredictWithNB():\n",
    "    try:\n",
    "        # Lấy dữ liệu từ các combobox\n",
    "        newData = [[cbbWorkEnvironment.get(), cbbExperience.get(), cbbPassion.get(), cbbAdvancementSpeed.get(), cbbSalary.get()]]\n",
    "        \n",
    "        # Mã hóa từng giá trị đầu vào bằng các LabelEncoder đã lưu\n",
    "        encoded_inputs = [\n",
    "            label_encoders[col].transform([newData[0][i]])[0]\n",
    "            for i, col in enumerate(['work environment', 'experience', 'passion', 'at speedvancemend', 'salary'])\n",
    "        ]\n",
    "        \n",
    "        # Chuyển đổi dữ liệu đã mã hóa bằng PCA đã huấn luyện với Naive Bayes\n",
    "        newData_Decreased = bestPcaNB.transform([encoded_inputs])\n",
    "        \n",
    "        # Sử dụng mô hình Naive Bayes đã huấn luyện để dự đoán\n",
    "        Result = modelMaxNB.predict(newData_Decreased)\n",
    "        \n",
    "        # Hiển thị kết quả trên giao diện\n",
    "        lbPredictNB.configure(text=f\"{Result[0]}\")\n",
    "    except Exception as e:\n",
    "        messagebox.showinfo(\"Cảnh báo\", \"Vui lòng chọn đầy đủ thông tin để dự đoán\")\n",
    "        print(f\"Lỗi: {e}\")\n"
   ]
  },
  {
   "cell_type": "code",
   "execution_count": 41,
   "metadata": {},
   "outputs": [],
   "source": [
    "# Bắt đầu thuật toán PCA\n",
    "maxRateNB = 0\n",
    "for i in range(1, X_os.shape[1] + 1):\n",
    "\n",
    "    # Khai báo PCA và số thành phần cần giữ lại\n",
    "    pca = PCA(n_components=i)\n",
    "\n",
    "    # Tìm một hệ cơ sở trực chuẩn và loại bỏ những thuộc tính ít quan trọng nhất\n",
    "    X_Decreased = pca.fit_transform(X_os)\n",
    "\n",
    "    # Sau khi dữ liệu đã được giảm kích thước thì tiến hành chia dữ liệu thành các phần Train, Test\n",
    "    X_train, X_test, Y_train, Y_test = train_test_split(X_Decreased, y_os, test_size=0.3, shuffle=False)\n",
    "\n",
    "    # Khai báo phương thức tạo cây với tiêu chí gini (CART), đồng thời tiến hành dựng cây phân lớp\n",
    "    TreeNB = tree.DecisionTreeClassifier(criterion='gini').fit(X_train, Y_train)\n",
    "    # Tiến hành dự đoán trên tập test\n",
    "    Y_Pred_NB = TreeNB.predict(X_test)\n",
    "    \n",
    "    # Điều kiện so sánh để lưu lại các thông tin của PCA và mô hình tốt nhất khi được kết hợp với PCA\n",
    "    if RateRating(Y_Pred_NB, Y_test) > maxRateNB:\n",
    "        maxRateNB = RateRating(Y_Pred_NB, Y_test)\n",
    "        numComponentsNB = i\n",
    "        bestPcaNB = pca\n",
    "        modelMaxNB = TreeNB\n",
    "        bestPredNB = Y_Pred_NB"
   ]
  },
  {
   "cell_type": "markdown",
   "metadata": {},
   "source": [
    "# 3. Form"
   ]
  },
  {
   "cell_type": "code",
   "execution_count": null,
   "metadata": {},
   "outputs": [],
   "source": [
    "\n",
    "\n",
    "# Khởi tạo form giao diện\n",
    "FORM = Tk()\n",
    "\n",
    "# Giới hạn kích thước cho form\n",
    "FORM.minsize(900, 700)\n",
    "\n",
    "# Đặt tên cho form\n",
    "FORM.title(\"Dự đoán quyết định nghỉ việc của nhân viên\")\n",
    "\n",
    "# Định nghĩa font chữ\n",
    "MyFont = (\"Arial\", 20)\n",
    "\n",
    "# Các đối tượng được dùng trong form: Label, Combobox, Button, LabelFrame (Group) \n",
    "\n",
    "lbTitle = Label(FORM, text=\"Thông tin để đưa ra quyết định nghỉ việc\", font=(\"Arial\", 30))\n",
    "lbTitle.grid(row=0, column=0, columnspan=2, padx=0, pady=10, sticky=\"we\")\n",
    "\n",
    "lbWorkEnvironment = Label(FORM, font=MyFont, text=\"Môi trường làm việc:\", bg=\"#C7CBD1\")\n",
    "lbWorkEnvironment.grid(row=1, column=0, padx=(10, 0), pady=5, sticky=\"nswe\")\n",
    "lbExperience = Label(FORM, font=MyFont, text=\"Kinh nghiệm của nhân viên:\", bg=\"#C7CBD1\")\n",
    "lbExperience.grid(row=2, column=0, padx=(10, 0), pady=5, sticky=\"nswe\")\n",
    "lbPassion = Label(FORM, font=MyFont, text=\"Mức độ đam mê với công việc:\", bg=\"#C7CBD1\")\n",
    "lbPassion.grid(row=3, column=0, padx=(10, 0), pady=5, sticky=\"nswe\")\n",
    "lbAdvancementSpeed = Label(FORM, font=MyFont, text=\"Mức độ thăng tiến trong công việc:\", bg=\"#C7CBD1\")\n",
    "lbAdvancementSpeed.grid(row=4, column=0, padx=(10, 0), pady=5, sticky=\"nswe\")\n",
    "lbSalary = Label(FORM, font=MyFont, text=\"Mức lương nhân viên nhận được:\", bg=\"#C7CBD1\")\n",
    "lbSalary.grid(row=5, column=0, padx=(10, 0), pady=5, sticky=\"nswe\")\n",
    "\n",
    "cbbWorkEnvironment = Combobox(FORM, font=MyFont, state=\"readonly\", values=('bad','ordinary','good'))\n",
    "cbbWorkEnvironment.grid(row=1, column=1, padx=(0, 10), pady=5, sticky=\"nswe\")\n",
    "cbbExperience = Combobox(FORM, font=MyFont, state=\"readonly\", values=('low','med','high'))\n",
    "cbbExperience.grid(row=2, column=1, padx=(0, 10), pady=5, sticky=\"nswe\")\n",
    "cbbPassion = Combobox(FORM, font=MyFont, state=\"readonly\", values=('small','big','vbig'))\n",
    "cbbPassion.grid(row=3, column=1, padx=(0, 10), pady=5, sticky=\"nswe\")\n",
    "cbbAdvancementSpeed = Combobox(FORM, font=MyFont, state=\"readonly\", values=('slow','normal','fast'))\n",
    "cbbAdvancementSpeed.grid(row=4, column=1, padx=(0, 10), pady=5, sticky=\"nswe\")\n",
    "cbbSalary = Combobox(FORM, font=MyFont, state=\"readonly\", values=('low','med','high'))\n",
    "cbbSalary.grid(row=5, column=1, padx=(0, 10), pady=5, sticky=\"nswe\")\n",
    "\n",
    "# Group CART\n",
    "groupCART = LabelFrame(FORM, font=MyFont, text=\"Thuật toán CART kết hợp PCA\")\n",
    "groupCART.grid(column=0, row=7, columnspan=1, padx=15, pady=15, sticky=\"nswe\")\n",
    "\n",
    "btnAboutCART = Button(groupCART, font=MyFont, text=\"Thông tin tỷ lệ dự đoán của CART\", bg=\"#C7CBD1\", command=AboutRateCART)\n",
    "btnAboutCART.grid(column=0, row=0, padx=200, pady=(50, 5), sticky=\"nswe\")\n",
    "\n",
    "btnPredictCART = Button(groupCART, font=MyFont, text=\"Dự đoán với CART\", bg=\"#C7CBD1\", command=PredictWithCART)\n",
    "btnPredictCART.grid(column=0, row=1, padx=200, pady=(40, 5), sticky=\"nswe\")\n",
    "\n",
    "lbCART = Label(groupCART, font=MyFont, text=\"Quyết định nghỉ việc\\n(yes / no)\")\n",
    "lbCART.grid(row=2, column=0, padx=5, pady=(40, 5), sticky=\"nswe\")\n",
    "\n",
    "lbPredictCART = Label(groupCART, font=MyFont, text=\"---\")\n",
    "lbPredictCART.grid(row=3, column=0, padx=5, pady=(0, 20), sticky=\"nswe\")\n",
    "\n",
    "# Group Naive Bayes\n",
    "groupNB = LabelFrame(FORM, font=MyFont, text=\"Thuật toán Naive Bayes kết hợp PCA\")\n",
    "groupNB.grid(column=1, row=7, columnspan=1, padx=15, pady=15, sticky=\"nswe\")\n",
    "\n",
    "btnAboutNB = Button(groupNB, font=MyFont, text=\"Thông tin tỷ lệ dự đoán của Naive Bayes\", bg=\"#C7CBD1\", command=AboutRateNB)\n",
    "btnAboutNB.grid(column=1, row=0, padx=200, pady=(50, 5), sticky=\"nswe\")\n",
    "\n",
    "btnPredictNB = Button(groupNB, font=MyFont, text=\"Dự đoán với Naive Bayes\", bg=\"#C7CBD1\", command=PredictWithNB)\n",
    "btnPredictNB.grid(column=1, row=1, padx=200, pady=(40, 5), sticky=\"nswe\")\n",
    "\n",
    "lbNB = Label(groupNB, font=MyFont, text=\"Quyết định nghỉ việc\\n(yes / no)\")\n",
    "lbNB.grid(row=2, column=1, padx=5, pady=(40, 5), sticky=\"nswe\")\n",
    "\n",
    "lbPredictNB = Label(groupNB, font=MyFont, text=\"---\")\n",
    "lbPredictNB.grid(row=3, column=1, padx=5, pady=(0, 20), sticky=\"nswe\")\n",
    "\n",
    "# Điều chỉnh tỷ lệ giữa các dòng và cột\n",
    "groupCART.rowconfigure((0, 1), weight=1)\n",
    "groupCART.rowconfigure((2, 3), weight=1)\n",
    "groupCART.columnconfigure(0, weight=1)\n",
    "groupNB.rowconfigure((0, 1), weight=1)\n",
    "groupNB.rowconfigure((2, 3), weight=1)\n",
    "groupNB.columnconfigure(0, weight=1)\n",
    "FORM.rowconfigure((1, 2, 3, 4, 5), weight=1)\n",
    "FORM.rowconfigure(7, weight=2)\n",
    "FORM.columnconfigure((0, 1), weight=1)\n",
    "\n",
    "FORM.mainloop()\n"
   ]
  }
 ],
 "metadata": {
  "kernelspec": {
   "display_name": "base",
   "language": "python",
   "name": "python3"
  },
  "language_info": {
   "codemirror_mode": {
    "name": "ipython",
    "version": 3
   },
   "file_extension": ".py",
   "mimetype": "text/x-python",
   "name": "python",
   "nbconvert_exporter": "python",
   "pygments_lexer": "ipython3",
   "version": "3.11.8"
  }
 },
 "nbformat": 4,
 "nbformat_minor": 2
}
